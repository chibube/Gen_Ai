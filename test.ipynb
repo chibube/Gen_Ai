{
 "cells": [
  {
   "cell_type": "code",
   "execution_count": 3,
   "metadata": {},
   "outputs": [],
   "source": [
    "from langchain.llms import Ollama"
   ]
  },
  {
   "cell_type": "code",
   "execution_count": 4,
   "metadata": {},
   "outputs": [],
   "source": [
    "ollama = Ollama(base_url=\"http://localhost:11434\",\n",
    "model=\"mlguru\")\n",
    "\n"
   ]
  },
  {
   "cell_type": "code",
   "execution_count": 5,
   "metadata": {},
   "outputs": [
    {
     "name": "stderr",
     "output_type": "stream",
     "text": [
      "c:\\Users\\coriz\\anaconda3\\Lib\\site-packages\\langchain_core\\_api\\deprecation.py:119: LangChainDeprecationWarning: The method `BaseLLM.__call__` was deprecated in langchain-core 0.1.7 and will be removed in 0.2.0. Use invoke instead.\n",
      "  warn_deprecated(\n"
     ]
    },
    {
     "name": "stdout",
     "output_type": "stream",
     "text": [
      "Hello! I am Onye Akwukwo, a teaching assistant in the field of Power Generation, Engineering, and Oil and Gas Production and Drilling. It's great to meet you! How can I help you today? Do you have any questions or topics you would like to discuss related to these fields?\n"
     ]
    }
   ],
   "source": [
    "print(ollama(\"who are you?\"))"
   ]
  },
  {
   "cell_type": "code",
   "execution_count": 6,
   "metadata": {},
   "outputs": [
    {
     "data": {
      "text/plain": [
       "\"Hello there! I'm Onye Akwukwo, a teaching assistant here to help you with any questions you may have. Machine learning is a subset of artificial intelligence that involves the use of algorithms and statistical models to enable machines learn from data, make decisions, and improve their performance over time.\\n\\nIn machine learning, the machine is given a set of inputs, and based on those inputs, it learns to produce an output. The more data it's exposed to, the better it can learn and make predictions or take actions. Machine learning algorithms can be used for a wide range of tasks, such as image recognition, speech recognition, natural language processing, recommendation systems, and many others.\\n\\nThere are several types of machine learning, including:\\n\\n1. Supervised Learning: In this type of machine learning, the algorithm is trained on labeled data, where the correct output is already known. The algorithm learns to map inputs to outputs based on the training data.\\n2. Unsupervised Learning: In this type of machine learning, the algorithm is trained on unlabeled data, and it must find patterns or structure in the data on its own.\\n3. Reinforcement Learning: In this type of machine learning, the algorithm learns by interacting with an environment and receiving feedback in the form of rewards or penalties.\\n4. Deep Learning: This is a subfield of machine learning that focuses on neural networks with multiple layers, which can learn to represent complex patterns in data.\\n\\nMachine learning has many applications in various industries, including power generation, engineering, and oil and gas production. For example, machine learning algorithms can be used to predict energy consumption patterns, optimize power plant performance, detect anomalies in industrial equipment, and improve the efficiency of oil and gas drilling operations.\\n\\nI hope this helps! Do you have any specific questions about machine learning that I can help with?\""
      ]
     },
     "execution_count": 6,
     "metadata": {},
     "output_type": "execute_result"
    }
   ],
   "source": [
    "ollama(\"what is machine learning?\")"
   ]
  },
  {
   "cell_type": "code",
   "execution_count": null,
   "metadata": {},
   "outputs": [],
   "source": []
  }
 ],
 "metadata": {
  "kernelspec": {
   "display_name": "Python 3",
   "language": "python",
   "name": "python3"
  },
  "language_info": {
   "codemirror_mode": {
    "name": "ipython",
    "version": 3
   },
   "file_extension": ".py",
   "mimetype": "text/x-python",
   "name": "python",
   "nbconvert_exporter": "python",
   "pygments_lexer": "ipython3",
   "version": "3.11.5"
  }
 },
 "nbformat": 4,
 "nbformat_minor": 2
}
